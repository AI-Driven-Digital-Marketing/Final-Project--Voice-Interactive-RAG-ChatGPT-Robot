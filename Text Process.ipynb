{
 "cells": [
  {
   "cell_type": "code",
   "execution_count": 8,
   "id": "4ad7e186",
   "metadata": {},
   "outputs": [
    {
     "name": "stdout",
     "output_type": "stream",
     "text": [
      "HubSpot Glossary\n",
      "Last updated: March 17, 2023\n",
      "\n",
      "APPLIES TO:\n",
      "All products and plans\n",
      "Learn definitions for common terms used in HubSpot tools. \n",
      "\n",
      "Account & Setup\n",
      "GDPR: the General Data Protection Regulation is an EU Regulation that replaced the 1995 EU Data Protection Directive. HubSpot provides settings for GDPR compliance.\n",
      "Integration: a connection between two apps, such as Slack and HubSpot. The user connects to the app, and the integration is the connection between HubSpot and the app.\n",
      "Marketplace:\n",
      "App Marketplace: an online directory where you can download free and paid apps that integrate with HubSpot.\n",
      "Asset Marketplace: an online directory where you can download free and paid modules, templates, and themes for use in marketing emails, landing pages, website pages, and blogs.\n",
      "Limiting access: a way to separate your HubSpot tools and assets to specific users or teams.\n",
      "Permission sets: pre-defined sets of user permissions. Use permission sets to ensure consistent permissions across your users.\n",
      "Teams: groups of users in your account that can be used for organizational and reporting purposes.\n",
      "#\n",
      "CRM\n",
      "Activity: actions that are taken on records in the CRM. Examples include notes, emails, tasks, scheduled meetings, and calls. \n",
      "Activity feed: a feed that shows engagements such as interactions with your one-to-one emails, meetings booked, document views, and more.\n",
      "Association: represents a connection or relationship between records in the CRM. You can associate records with each other, or activities with records.\n",
      "Company: the object used for any organization saved in your CRM. \n",
      "Contact: the object used for any person saved in your CRM. \n",
      "CRM object: a type of a relationship or process that your business has.\n",
      "Standard CRM objects: includes contacts, companies, deals, tickets, and custom objects.\n",
      "HubSpot-defined objects: additional HubSpot tools that use the same framework as the standard CRM objects, which enables you to segment or report on them. Some HubSpot-defined objects include calls, conversations, products, and quotes.CRM object: a type of a relationship or process that your business has, such as contacts, companies, deals, and tickets.\n",
      "Deal: the object used to store information about ongoing transactions throughout the stages of your sales process.\n",
      "HubSpot score: a number that shows qualification of contacts based on criteria set in HubSpot鈥檚 lead scoring tool.\n",
      "Index page: a list view of the records for each object, for example, the contacts index page.\n",
      "Pipeline: a way to monitor CRM objects in different stages. Deal pipelines can be used to predict revenue and identify roadblocks in your selling process. Ticket pipelines can be used to manage your support ticket statuses and identify trends.\n",
      "Property: a field created to store data for an object. Each object has its own set of properties and all the records of that object will have those same properties. HubSpot creates and uses some default properties for each object that cannot be deleted. \n",
      "Record: an instance of an object (e.g., \"Tom Smith\" is a contact record). These records can be associated with records of other object types, and can be used in HubSpot tools, such as workflows.\n",
      "Saved view: in your object homes, a filter created to segment records based on their property values to limit the records you view for analysis. \n",
      "Task: a to-do reminder that is assigned to a user and associated with a record. \n",
      "Ticket: the object used to store information about customer queries.\n",
      "#\n",
      "Domains\n",
      "url-anatomy-brand-domain\n",
      "Root/apex domain: the main domain and the parent of any subdomains. \n",
      "Brand domain: the brand domain is between the subdomain and the top-level domain, otherwise known as a domain name. The brand domain is always part of the URL, whether we鈥檙e specifying a root domain or a subdomain.\n",
      "Top-level domain: the last part of the URL. The top-level domain expresses where on the internet your site lives. \n",
      "Subdomain: the first part of the URL. Content can be hosted on a subdomain. This content will be separate from your root domain.\n",
      "Primary domain: a domain (either root domain or subdomain) that will be the default host for content.\n",
      "Secondary domain: a subdomain that can host content but will not be set at the default host.\n",
      "Redirect domain: a subdomain that automatically redirects to another domain. No content is hosted on the redirect domain. \n",
      "Email sending domain: a subdomain that adds a later of authentication to your HubSpot emails that help prevent them from getting caught in spam filters. \n",
      "#\n",
      "Marketing tools\n",
      "Ads: a tool that allows you to connect a Facebook, Google, or LinkedIn ad account to create, track, and report on your ad campaigns.\n",
      "Ad account: an administrative profile on Facebook, Google, or LinkedIn, separate from your personal user account, used to create ads.\n",
      "Ads audience: a group of users on an ad network that you can target when you publish an ad. There are four types of ads audiences you can create:\n",
      "Contact list audience: an audience created from a contact list in HubSpot. Any changes to the contacts in the HubSpot list will be synced in real time with the ad network.\n",
      "Company list audience: a LinkedIn audience created from a company list in HubSpot. Any changes to the companies in the HubSpot list will be synced in real time with LinkedIn.\n",
      "Lookalike audience: an audience whose members share demographic information or interests with the members of a source audience.\n",
      "Website visitor audience: an audience consisting of visitors to your website, using the data from a tracking pixel on your site.\n",
      "Allowlist: a list of email addresses or IP addresses that your IT team has marked as \"safe senders\" with your email provider.\n",
      "Blocklist: a list of email servers or domains that a blocklist operator has found to send spam.\n",
      "Call-to-action (CTA): a button or hyperlink used in your content to drive prospective customers to your website and track clicks.\n",
      "#\n",
      "Campaigns:\n",
      "Ad campaign: in HubSpot鈥檚 ads tool, a campaign created for external ad networks (Google, Facebook, and LinkedIn).\n",
      "Campaign: in HubSpot鈥檚 campaigns tool, a campaign allows you to associate related marketing assets and content (e.g., CTAs, landing pages, and social posts), so you can easily measure the effectiveness of your collective marketing efforts.\n",
      "Form: a collection of fields that can be placed on your website to gather key information about visitors and contacts. Information submitted on forms are stored in properties on records in your CRM database.\n",
      "List: a collection of contacts or companies based on criteria you set. You can use lists in other HubSpot tools to segment a specific group of contacts.\n",
      "Marketing email: an email sent from the marketing email tool, used to promote your content.\n",
      "Drag and drop email editor: an intuitive interface that lets you drag and drop modules in your email layout.\n",
      "Updated classic email editor: supports coded email templates and layout templates created in the design manager tool.\n",
      "Non-HubSpot forms: an external form hosted outside of HubSpot. If you have the HubSpot tracking code installed on your external page, submissions to non-HubSpot forms will be collected in HubSpot. Some form builders and plugins are also supported.\n",
      "Personalization token: dynamic content you can insert into an email or page that changes based on a contact鈥檚 property values in your CRM. In order for personalization tokens to show a value, the contact viewing it must be a tracked visitor with a contact record in your CRM and a known property value for that token.\n",
      "Pixel: a third-party tracking code that you can install alongside the HubSpot tracking code to create ads audiences and optimize your ads.\n",
      "Signature: a personalized block of information used in one-on-one emails sent through the HubSpot CRM and as a personalization token for marketing emails.\n",
      "Smart content: dynamic content that displays different versions of your content based on viewer criteria. In addition to creating smart CTAs and smart forms, you can use rich text modules or global custom modules to add smart content to your website pages, landing pages, and emails.\n",
      "Subscription type: the lawful basis to communicate with your contacts through email. You can add or remove subscription types so contacts can manage their email preferences and opt-in to the types of emails they want to receive (e.g., marketing, sales, and blog updates).\n",
      "Sales tools\n",
      "Calling: a tool that allows you to call a contact directly from their record in the CRM. \n",
      "Conversation Intelligence (CI): a tool that allows you to automatically transcribe and analyze calls made through the calling tool, using HubSpot's integration with Zoom, or using a connected third-party calling provider that supports CI. \n",
      "Document: a piece of content uploaded to HubSpot鈥檚 document tool, which can then be shared with your contacts via email.\n",
      "Forecast: a tool that helps your team predict future sales revenue.\n",
      "Meetings: a tool that allows you to create a scheduling page that you share via a meeting link so your prospects or contacts can book a meeting with you. \n",
      "Payments: a tool that allows you to collect payments in HubSpot via a payment link, quote, or scheduling page. You can then manage your collected payments and issue refunds, resend receipts, or download reports of payouts and payments.\n",
      "Personal email: the email address you typically use to send emails to your contacts. You can connect your personal email to HubSpot to send one-to-one emails from the CRM, log email replies, send sequences emails, and install the HubSpot Sales extension or add-in to access the sales tools in your inbox. \n",
      "Playbook: an interactive content card that you can access from your records to reference when speaking with prospects and customers. \n",
      "Products: the goods or services that you sell. You can create and manage products in the product library.\n",
      "Quotes: shareable webpages that includes pricing information for a product or service.\n",
      "Sales email extension or add-in: an extension or add-in that allows you to access the sales tools directly from your inbox in Gmail, Office 365, and Outlook desktop. You can also track email opens and log emails to the CRM.\n",
      "Sales (one-to-one) email: an email sent directly to a contact from the CRM or from your mail client while using the sales email add-in or extension. To send emails to a list of contacts, learn about marketing emails. \n",
      "Sales template: saved email content that can be used when sending an email from the CRM, from your email inbox using the sales extension or add-in, or from a sequence. \n",
      "Snippet: a short, reusable text block that can be used on contact, company, deal and ticket records; in email templates; in chat conversations; and when logging an activity or note. \n",
      "Sequence: an automation tool that sends a series of timed one-to-one emails and task reminders to help nurture your leads over time.\n",
      "Subscriptions: if you are using the payments tool to collect recurring payments, a subscription record will be created and associated with buyer's contact, company, and deal record.\n",
      "#\n",
      "Service tools\n",
      "Feedback surveys: \n",
      "Customer satisfaction surveys: a CSAT score tells you how satisfied a customer is with a product, service, or experience. It measures how a customer feels about a brand interaction.\n",
      "Customer loyalty surveys: NPS surveys track how likely your customers are to recommend your company to other people.\n",
      "Customer support surveys: Customer Effort Score (CES) measures the user's customer support experience.\n",
      "Knowledge base: an online library of how-to guides, reference docs, and troubleshooting steps for your customers.\n",
      "#\n",
      "Chat \n",
      "Chatflow: chat widgets that you can add to your website pages. There are two types of chatflows: \n",
      "Bot: a series of pre-set actions in a chatflow that lead visitors down a path until their inquiry is resolved or they can connect with someone on your team.\n",
      "Live chat: chatflows that allow visitors to start real-time conversations with members of your team.\n",
      "Channel: channels represent the different paths your users can take to contact your team. A channel can be one of four types: team email address, chat, form, or Facebook Messenger. Messages to any of your connected channels will be triaged together in your conversations inbox.\n",
      "Customer portal: a home behind a login where customers can view, open, and reply to their support tickets.\n",
      "Fallback email: an email that HubSpot provisions that allows you to use certain HubSpot tools, such as ticket automation, if you haven't connected a team email address yet.\n",
      "Inbox: the central location in the conversations tool where messages from all of your connected channels will appear. You can view ongoing conversations, reply to messages, and create tickets to track customers' issues.\n",
      "Targeting rules: set criteria that allow you to control the pop-up form or chatflow that your visitors see when they visit your website, based on the website URL, query parameters, and the visitor鈥檚 information and behavior. Combine the different targeting options to tailor the chatflow or pop-up form to the specific visitor.\n",
      "Team email: a type of channel that you can connect to your inbox. It is a shared email address that multiple users have access to and use to communicate with contacts. This is different from a personal email that you connect in your email integration settings. \n",
      "#\n",
      "Automation\n",
      "Actions: the functions that execute when a record is enrolled in a workflow or when a visitor is chatting with a bot. \n",
      "Action logs: an enrolled record鈥檚 history of events that has occurred as a result of the actions in a workflow.  \n",
      "Branch: a type of workflow action that directs enrolled records down specific paths in a workflow depending on the set criteria. \n",
      "Delay: a pause between actions.\n",
      "Enrollment triggers: specific trigger criteria selected for a workflow that automatically enrolls objects when they meet the criteria.\n",
      "Fallback email: an email that HubSpot provisions that allows you to use certain HubSpot tools, such as ticket automation, if you haven't connected a team email address yet.\n",
      "Enrollment history: the history of records that have enrolled in a workflow.\n",
      "Suppression list: a list used to prevent specific contacts from enrolling in a workflow. \n",
      "Unenrollment triggers: specific criteria selected for a workflow that automatically removes records from a workflow when they meet the criteria.  \n",
      "Webhook: a workflow or bot action that passes information from HubSpot to another web application. There are a variety of uses for webhooks, such as sending data and pushing notifications. \n",
      "Workflow: an automation tool in HubSpot that automatically enrolls records when they meet specific trigger criteria, then executes a series of marketing, sales, or service processes.\n",
      "#\n",
      "Website\n",
      "Content editor: the main editor for individual assets within HubSpot鈥檚 content tools. This includes blog posts, landing pages, website pages, marketing emails, and knowledge base articles. \n",
      "Domain: a website address where content is hosted.\n",
      "Design manager: a tool used by designers to create and organize modules and templates. \n",
      "File: a piece of content uploaded to HubSpot鈥檚 files tool, such as an image, PDF, or video.\n",
      "HubDB: a relational database, formatted like a spreadsheet with rows, columns, and cells in a table.\n",
      "Module: a reusable design component that can be used in templates or added to pages or emails using the drag and drop editor.\n",
      "Common modules: a set of standard modules in the content editor for assets created with a drag and drop template.\n",
      "Custom modules: modules created in the design manager to implement more advanced features.\n",
      "Starter template: a simplified page layout with limited functionalities.\n",
      "Template: a saved layout used to organize modules in an email, or on a blog, landing, or website page.\n",
      "Theme: a set of templates and styles that controls the appearance of your content assets. \n",
      "Tracking code: a code with JavaScript, unique to each HubSpot account. The tracking code is automatically included on HubSpot blog posts, landing pages, and website pages. When added to your external site, HubSpot can track and send site traffic data to your HubSpot account, and add your account's chat widgets to your site.\n",
      "#\n",
      "Reports\n",
      "Dashboard: a single view of multiple reports. Create dashboards to organize your reports into a central location.\n",
      "Attribution reports: reports that measure conversion along a customer鈥檚 journey. With conversion reports, you can better understand which assets result in the creation of contacts and deals, as well as the revenue generated from closed deals.\n",
      "Original source: an automatically set contact property that shows where a contact came from. Original source drill-down properties provide additional information about the contact's original source.\n",
      "Report: a tool used to analyze trends across your HubSpot tools. All HubSpot accounts come with a library of reports, and you can create custom reports. Types of reports include:\n",
      "Single object report: a report based on a single object, such as contacts.\n",
      "Cross-object report: a report based on the relationship between two objects, such as contacts and deals.\n",
      "Funnel report: a report that shows the conversion rates between stages. \n",
      "Attribution report: a report that shows which interactions or activities drive conversions and revenue.\n",
      "Report library: a directory of pre-built standard reports that can be added to your reports list or dashboards. \n",
      "Session: a measurement of website visitor engagement where website activities are grouped together.\n"
     ]
    }
   ],
   "source": [
    "#Test: HubSpot knowledge base\n",
    "\n",
    "#Loading txt\n",
    "\n",
    "\n",
    "file = open(\"src/Knowledge Base.txt\", \"r\")\n",
    "\n",
    "# Read the contents of the file\n",
    "hubspot_glossary = file.read()\n",
    "\n",
    "# Close the file\n",
    "file.close()\n",
    "\n",
    "# Print the contents of the file\n",
    "print(hubspot_glossary)"
   ]
  },
  {
   "cell_type": "code",
   "execution_count": 21,
   "id": "aae2870b",
   "metadata": {},
   "outputs": [
    {
     "data": {
      "text/plain": [
       "'HubSpot Glossary\\nLast updated: March 17, 2023\\n\\nAPPLIES TO:\\nAll products and plans\\nLearn definitions for common terms used in HubSpot tools. \\n\\nAccount & Setup\\nGDPR: the General Data Protection Regulation is an EU Regulation that replaced the 1995 EU Data Protection Directive. HubSpot provides settings for GDPR compliance.\\nIntegration: a connection between two apps, such as Slack and HubSpot. The user connects to the app, and the integration is the connection between HubSpot and the app.\\nMarketplace:\\nApp Marketplace: an online directory where you can download free and paid apps that integrate with HubSpot.\\nAsset Marketplace: an online directory where you can download free and paid modules, templates, and themes for use in marketing emails, landing pages, website pages, and blogs.\\nLimiting access: a way to separate your HubSpot tools and assets to specific users or teams.\\nPermission sets: pre-defined sets of user permissions. Use permission sets to ensure consistent permissions across your users.\\nTeams: groups of users in your account that can be used for organizational and reporting purposes.\\n'"
      ]
     },
     "execution_count": 21,
     "metadata": {},
     "output_type": "execute_result"
    }
   ],
   "source": [
    "hubspot_glossary.split('#')[0]"
   ]
  },
  {
   "cell_type": "code",
   "execution_count": 27,
   "id": "2b3f3a5b",
   "metadata": {},
   "outputs": [],
   "source": [
    "glossary_output = []\n",
    "for i in range(len(hubspot_glossary.split('#'))):\n",
    "    glossary_output.append({'text':hubspot_glossary.split('#')[i],\n",
    "                  'id': 'glossary_'+str(i)})"
   ]
  },
  {
   "cell_type": "code",
   "execution_count": 28,
   "id": "880ab5c7",
   "metadata": {},
   "outputs": [],
   "source": [
    "hubspot_output = dict()\n",
    "hubspot_output['glossary'] = glossary_output"
   ]
  },
  {
   "cell_type": "code",
   "execution_count": 30,
   "id": "d53cdf2c",
   "metadata": {},
   "outputs": [
    {
     "data": {
      "text/plain": [
       "dict_keys(['glossary'])"
      ]
     },
     "execution_count": 30,
     "metadata": {},
     "output_type": "execute_result"
    }
   ],
   "source": [
    "hubspot_output.keys()"
   ]
  },
  {
   "cell_type": "code",
   "execution_count": 31,
   "id": "9a0ac81d",
   "metadata": {},
   "outputs": [],
   "source": [
    "import json\n",
    "with open(\"output.json\", \"w\") as outfile:\n",
    "    # Write the dictionary to the output file in JSON format\n",
    "    json.dump(output, outfile)"
   ]
  },
  {
   "cell_type": "code",
   "execution_count": 7,
   "id": "15469359",
   "metadata": {},
   "outputs": [
    {
     "data": {
      "text/plain": [
       "1"
      ]
     },
     "execution_count": 7,
     "metadata": {},
     "output_type": "execute_result"
    }
   ],
   "source": [
    "//2"
   ]
  },
  {
   "cell_type": "code",
   "execution_count": null,
   "id": "e58263a5",
   "metadata": {},
   "outputs": [],
   "source": []
  }
 ],
 "metadata": {
  "kernelspec": {
   "display_name": "Python 3 (ipykernel)",
   "language": "python",
   "name": "python3"
  },
  "language_info": {
   "codemirror_mode": {
    "name": "ipython",
    "version": 3
   },
   "file_extension": ".py",
   "mimetype": "text/x-python",
   "name": "python",
   "nbconvert_exporter": "python",
   "pygments_lexer": "ipython3",
   "version": "3.9.12"
  }
 },
 "nbformat": 4,
 "nbformat_minor": 5
}
